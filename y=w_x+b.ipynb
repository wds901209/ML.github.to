{
  "nbformat": 4,
  "nbformat_minor": 0,
  "metadata": {
    "colab": {
      "provenance": [],
      "authorship_tag": "ABX9TyMdZupCcYg9zo+Uut8AZEg2",
      "include_colab_link": true
    },
    "kernelspec": {
      "name": "python3",
      "display_name": "Python 3"
    },
    "language_info": {
      "name": "python"
    },
    "widgets": {
      "application/vnd.jupyter.widget-state+json": {
        "6d828d5331ec4253bb8390704d27fc9e": {
          "model_module": "@jupyter-widgets/controls",
          "model_name": "VBoxModel",
          "model_module_version": "1.5.0",
          "state": {
            "_dom_classes": [
              "widget-interact"
            ],
            "_model_module": "@jupyter-widgets/controls",
            "_model_module_version": "1.5.0",
            "_model_name": "VBoxModel",
            "_view_count": null,
            "_view_module": "@jupyter-widgets/controls",
            "_view_module_version": "1.5.0",
            "_view_name": "VBoxView",
            "box_style": "",
            "children": [
              "IPY_MODEL_147a10e0efd14aa5a36ce919576c8f5f",
              "IPY_MODEL_840b4a0b5d9c4427815886230471e592",
              "IPY_MODEL_643a1ba8de5848748a431e92f2d17e0f"
            ],
            "layout": "IPY_MODEL_409a241de16b4f13ad29a4c2bd61f91e"
          }
        },
        "147a10e0efd14aa5a36ce919576c8f5f": {
          "model_module": "@jupyter-widgets/controls",
          "model_name": "IntSliderModel",
          "model_module_version": "1.5.0",
          "state": {
            "_dom_classes": [],
            "_model_module": "@jupyter-widgets/controls",
            "_model_module_version": "1.5.0",
            "_model_name": "IntSliderModel",
            "_view_count": null,
            "_view_module": "@jupyter-widgets/controls",
            "_view_module_version": "1.5.0",
            "_view_name": "IntSliderView",
            "continuous_update": true,
            "description": "w",
            "description_tooltip": null,
            "disabled": false,
            "layout": "IPY_MODEL_2221fed097a947f0901b94c6f4ce9248",
            "max": 100,
            "min": -100,
            "orientation": "horizontal",
            "readout": true,
            "readout_format": "d",
            "step": 1,
            "style": "IPY_MODEL_b976abbdd8b74e0c80d4122e4af78f19",
            "value": 10
          }
        },
        "840b4a0b5d9c4427815886230471e592": {
          "model_module": "@jupyter-widgets/controls",
          "model_name": "IntSliderModel",
          "model_module_version": "1.5.0",
          "state": {
            "_dom_classes": [],
            "_model_module": "@jupyter-widgets/controls",
            "_model_module_version": "1.5.0",
            "_model_name": "IntSliderModel",
            "_view_count": null,
            "_view_module": "@jupyter-widgets/controls",
            "_view_module_version": "1.5.0",
            "_view_name": "IntSliderView",
            "continuous_update": true,
            "description": "b",
            "description_tooltip": null,
            "disabled": false,
            "layout": "IPY_MODEL_df841554cbed48d09e5bf074284142f6",
            "max": 100,
            "min": -100,
            "orientation": "horizontal",
            "readout": true,
            "readout_format": "d",
            "step": 1,
            "style": "IPY_MODEL_fc82b1f2b14b4969a2b81d167d2d2c81",
            "value": 25
          }
        },
        "643a1ba8de5848748a431e92f2d17e0f": {
          "model_module": "@jupyter-widgets/output",
          "model_name": "OutputModel",
          "model_module_version": "1.0.0",
          "state": {
            "_dom_classes": [],
            "_model_module": "@jupyter-widgets/output",
            "_model_module_version": "1.0.0",
            "_model_name": "OutputModel",
            "_view_count": null,
            "_view_module": "@jupyter-widgets/output",
            "_view_module_version": "1.0.0",
            "_view_name": "OutputView",
            "layout": "IPY_MODEL_9c197114821d4841a88f5e1e9bd853e8",
            "msg_id": "",
            "outputs": [
              {
                "output_type": "display_data",
                "data": {
                  "text/plain": "<Figure size 640x480 with 1 Axes>",
                  "image/png": "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\n"
                },
                "metadata": {}
              }
            ]
          }
        },
        "409a241de16b4f13ad29a4c2bd61f91e": {
          "model_module": "@jupyter-widgets/base",
          "model_name": "LayoutModel",
          "model_module_version": "1.2.0",
          "state": {
            "_model_module": "@jupyter-widgets/base",
            "_model_module_version": "1.2.0",
            "_model_name": "LayoutModel",
            "_view_count": null,
            "_view_module": "@jupyter-widgets/base",
            "_view_module_version": "1.2.0",
            "_view_name": "LayoutView",
            "align_content": null,
            "align_items": null,
            "align_self": null,
            "border": null,
            "bottom": null,
            "display": null,
            "flex": null,
            "flex_flow": null,
            "grid_area": null,
            "grid_auto_columns": null,
            "grid_auto_flow": null,
            "grid_auto_rows": null,
            "grid_column": null,
            "grid_gap": null,
            "grid_row": null,
            "grid_template_areas": null,
            "grid_template_columns": null,
            "grid_template_rows": null,
            "height": null,
            "justify_content": null,
            "justify_items": null,
            "left": null,
            "margin": null,
            "max_height": null,
            "max_width": null,
            "min_height": null,
            "min_width": null,
            "object_fit": null,
            "object_position": null,
            "order": null,
            "overflow": null,
            "overflow_x": null,
            "overflow_y": null,
            "padding": null,
            "right": null,
            "top": null,
            "visibility": null,
            "width": null
          }
        },
        "2221fed097a947f0901b94c6f4ce9248": {
          "model_module": "@jupyter-widgets/base",
          "model_name": "LayoutModel",
          "model_module_version": "1.2.0",
          "state": {
            "_model_module": "@jupyter-widgets/base",
            "_model_module_version": "1.2.0",
            "_model_name": "LayoutModel",
            "_view_count": null,
            "_view_module": "@jupyter-widgets/base",
            "_view_module_version": "1.2.0",
            "_view_name": "LayoutView",
            "align_content": null,
            "align_items": null,
            "align_self": null,
            "border": null,
            "bottom": null,
            "display": null,
            "flex": null,
            "flex_flow": null,
            "grid_area": null,
            "grid_auto_columns": null,
            "grid_auto_flow": null,
            "grid_auto_rows": null,
            "grid_column": null,
            "grid_gap": null,
            "grid_row": null,
            "grid_template_areas": null,
            "grid_template_columns": null,
            "grid_template_rows": null,
            "height": null,
            "justify_content": null,
            "justify_items": null,
            "left": null,
            "margin": null,
            "max_height": null,
            "max_width": null,
            "min_height": null,
            "min_width": null,
            "object_fit": null,
            "object_position": null,
            "order": null,
            "overflow": null,
            "overflow_x": null,
            "overflow_y": null,
            "padding": null,
            "right": null,
            "top": null,
            "visibility": null,
            "width": null
          }
        },
        "b976abbdd8b74e0c80d4122e4af78f19": {
          "model_module": "@jupyter-widgets/controls",
          "model_name": "SliderStyleModel",
          "model_module_version": "1.5.0",
          "state": {
            "_model_module": "@jupyter-widgets/controls",
            "_model_module_version": "1.5.0",
            "_model_name": "SliderStyleModel",
            "_view_count": null,
            "_view_module": "@jupyter-widgets/base",
            "_view_module_version": "1.2.0",
            "_view_name": "StyleView",
            "description_width": "",
            "handle_color": null
          }
        },
        "df841554cbed48d09e5bf074284142f6": {
          "model_module": "@jupyter-widgets/base",
          "model_name": "LayoutModel",
          "model_module_version": "1.2.0",
          "state": {
            "_model_module": "@jupyter-widgets/base",
            "_model_module_version": "1.2.0",
            "_model_name": "LayoutModel",
            "_view_count": null,
            "_view_module": "@jupyter-widgets/base",
            "_view_module_version": "1.2.0",
            "_view_name": "LayoutView",
            "align_content": null,
            "align_items": null,
            "align_self": null,
            "border": null,
            "bottom": null,
            "display": null,
            "flex": null,
            "flex_flow": null,
            "grid_area": null,
            "grid_auto_columns": null,
            "grid_auto_flow": null,
            "grid_auto_rows": null,
            "grid_column": null,
            "grid_gap": null,
            "grid_row": null,
            "grid_template_areas": null,
            "grid_template_columns": null,
            "grid_template_rows": null,
            "height": null,
            "justify_content": null,
            "justify_items": null,
            "left": null,
            "margin": null,
            "max_height": null,
            "max_width": null,
            "min_height": null,
            "min_width": null,
            "object_fit": null,
            "object_position": null,
            "order": null,
            "overflow": null,
            "overflow_x": null,
            "overflow_y": null,
            "padding": null,
            "right": null,
            "top": null,
            "visibility": null,
            "width": null
          }
        },
        "fc82b1f2b14b4969a2b81d167d2d2c81": {
          "model_module": "@jupyter-widgets/controls",
          "model_name": "SliderStyleModel",
          "model_module_version": "1.5.0",
          "state": {
            "_model_module": "@jupyter-widgets/controls",
            "_model_module_version": "1.5.0",
            "_model_name": "SliderStyleModel",
            "_view_count": null,
            "_view_module": "@jupyter-widgets/base",
            "_view_module_version": "1.2.0",
            "_view_name": "StyleView",
            "description_width": "",
            "handle_color": null
          }
        },
        "9c197114821d4841a88f5e1e9bd853e8": {
          "model_module": "@jupyter-widgets/base",
          "model_name": "LayoutModel",
          "model_module_version": "1.2.0",
          "state": {
            "_model_module": "@jupyter-widgets/base",
            "_model_module_version": "1.2.0",
            "_model_name": "LayoutModel",
            "_view_count": null,
            "_view_module": "@jupyter-widgets/base",
            "_view_module_version": "1.2.0",
            "_view_name": "LayoutView",
            "align_content": null,
            "align_items": null,
            "align_self": null,
            "border": null,
            "bottom": null,
            "display": null,
            "flex": null,
            "flex_flow": null,
            "grid_area": null,
            "grid_auto_columns": null,
            "grid_auto_flow": null,
            "grid_auto_rows": null,
            "grid_column": null,
            "grid_gap": null,
            "grid_row": null,
            "grid_template_areas": null,
            "grid_template_columns": null,
            "grid_template_rows": null,
            "height": null,
            "justify_content": null,
            "justify_items": null,
            "left": null,
            "margin": null,
            "max_height": null,
            "max_width": null,
            "min_height": null,
            "min_width": null,
            "object_fit": null,
            "object_position": null,
            "order": null,
            "overflow": null,
            "overflow_x": null,
            "overflow_y": null,
            "padding": null,
            "right": null,
            "top": null,
            "visibility": null,
            "width": null
          }
        }
      }
    }
  },
  "cells": [
    {
      "cell_type": "markdown",
      "metadata": {
        "id": "view-in-github",
        "colab_type": "text"
      },
      "source": [
        "<a href=\"https://colab.research.google.com/github/wds901209/ML.github.to/blob/main/y%3Dw_x%2Bb.ipynb\" target=\"_parent\"><img src=\"https://colab.research.google.com/assets/colab-badge.svg\" alt=\"Open In Colab\"/></a>"
      ]
    },
    {
      "cell_type": "code",
      "execution_count": null,
      "metadata": {
        "id": "4L4Wam8aEjVU"
      },
      "outputs": [],
      "source": [
        "import pandas as pd\n",
        "\n",
        "url = \"https://raw.githubusercontent.com/GrandmaCan/ML/main/Resgression/Salary_Data.csv\"\n",
        "data = pd.read_csv(url)\n",
        "data\n",
        "\n",
        "# y = w*x + b\n",
        "x = data[\"YearsExperience\"]\n",
        "y = data[\"Salary\"]"
      ]
    },
    {
      "cell_type": "code",
      "source": [
        "!pip install wget\n",
        "import wget\n",
        "wget.download(\"https://github.com/GrandmaCan/ML/raw/main/Resgression/ChineseFont.ttf\")"
      ],
      "metadata": {
        "colab": {
          "base_uri": "https://localhost:8080/",
          "height": 229
        },
        "collapsed": true,
        "id": "bkZpSJSDLS69",
        "outputId": "2d29faff-43a4-4881-b957-a492e760c593"
      },
      "execution_count": null,
      "outputs": [
        {
          "output_type": "stream",
          "name": "stdout",
          "text": [
            "Collecting wget\n",
            "  Downloading wget-3.2.zip (10 kB)\n",
            "  Preparing metadata (setup.py) ... \u001b[?25l\u001b[?25hdone\n",
            "Building wheels for collected packages: wget\n",
            "  Building wheel for wget (setup.py) ... \u001b[?25l\u001b[?25hdone\n",
            "  Created wheel for wget: filename=wget-3.2-py3-none-any.whl size=9656 sha256=9e16c40c302b1de31f5c0678739f16fff5ddbda2a5dfc3a4a5688ce3d8c47f78\n",
            "  Stored in directory: /root/.cache/pip/wheels/8b/f1/7f/5c94f0a7a505ca1c81cd1d9208ae2064675d97582078e6c769\n",
            "Successfully built wget\n",
            "Installing collected packages: wget\n",
            "Successfully installed wget-3.2\n"
          ]
        },
        {
          "output_type": "execute_result",
          "data": {
            "text/plain": [
              "'ChineseFont.ttf'"
            ],
            "application/vnd.google.colaboratory.intrinsic+json": {
              "type": "string"
            }
          },
          "metadata": {},
          "execution_count": 11
        }
      ]
    },
    {
      "cell_type": "code",
      "source": [
        "import matplotlib.pyplot as plt\n",
        "import matplotlib as mpl\n",
        "from matplotlib.font_manager import fontManager\n",
        "\n",
        "fontManager.addfont(\"ChineseFont.ttf\")  #導入字體\n",
        "mpl.rc('font', family=\"ChineseFont\")\n",
        "\n",
        "plt.scatter(x, y, marker=\"x\", color=\"red\")  #畫圖\n",
        "plt.title(\"年資-薪水\")\n",
        "plt.xlabel(\"年資\")\n",
        "plt.ylabel(\"月薪(千)\")\n",
        "plt.show()"
      ],
      "metadata": {
        "colab": {
          "base_uri": "https://localhost:8080/",
          "height": 472
        },
        "id": "JXG2ZbyuGIjZ",
        "outputId": "c34cae35-40d2-45d6-c3c9-31ef259aee60"
      },
      "execution_count": null,
      "outputs": [
        {
          "output_type": "display_data",
          "data": {
            "text/plain": [
              "<Figure size 640x480 with 1 Axes>"
            ],
            "image/png": "[encoded data removed]"
          },
          "metadata": {}
        }
      ]
    },
    {
      "cell_type": "code",
      "source": [
        "#找到最適合的w和b\n",
        "#用x的值去預測y\n",
        "w = 0 #斜率\n",
        "b = 0 #控制線條高低\n",
        "\n",
        "def plot_pred(w, b):\n",
        "  y_pred = x*w + b\n",
        "  plt.plot(x, y_pred, color=\"blue\", label=\"預測線\")\n",
        "  plt.scatter(x, y, marker=\"x\", color=\"red\", label=\"真實數據\")  #畫xx\n",
        "  plt.title(\"年資-薪水\")\n",
        "  plt.xlabel(\"年資\")\n",
        "  plt.ylabel(\"月薪(千)\")\n",
        "  plt.xlim([0, 12])  #(min, max)\n",
        "  plt.ylim([-60, 140])  #(min, max)\n",
        "  plt.legend()  #顯示左上角圖例\n",
        "  plt.show()\n",
        "\n",
        "plot_pred(-10, 10)"
      ],
      "metadata": {
        "colab": {
          "base_uri": "https://localhost:8080/",
          "height": 472
        },
        "id": "Fb3NYBBLN1tD",
        "outputId": "251c1055-7bdc-4d4b-ee70-c0ed560c8972"
      },
      "execution_count": null,
      "outputs": [
        {
          "output_type": "display_data",
          "data": {
            "text/plain": [
              "<Figure size 640x480 with 1 Axes>"
            ],
            "image/png": "[encoded data removed]"
          },
          "metadata": {}
        }
      ]
    },
    {
      "cell_type": "code",
      "source": [
        "#互動元件\n",
        "from ipywidgets import interact\n",
        "\n",
        "interact(plot_pred, w=(-100, 100, 1), b=(-100, 100,1))  #範文是-100~100間，間距為1"
      ],
      "metadata": {
        "colab": {
          "base_uri": "https://localhost:8080/",
          "height": 622,
          "referenced_widgets": [
            "6d828d5331ec4253bb8390704d27fc9e",
            "147a10e0efd14aa5a36ce919576c8f5f",
            "840b4a0b5d9c4427815886230471e592",
            "643a1ba8de5848748a431e92f2d17e0f",
            "409a241de16b4f13ad29a4c2bd61f91e",
            "2221fed097a947f0901b94c6f4ce9248",
            "b976abbdd8b74e0c80d4122e4af78f19",
            "df841554cbed48d09e5bf074284142f6",
            "fc82b1f2b14b4969a2b81d167d2d2c81",
            "9c197114821d4841a88f5e1e9bd853e8"
          ]
        },
        "id": "LtMMc7fTTnTo",
        "outputId": "e71357fd-29bc-4f7f-e335-159bd78ff147"
      },
      "execution_count": null,
      "outputs": [
        {
          "output_type": "display_data",
          "data": {
            "text/plain": [
              "interactive(children=(IntSlider(value=0, description='w', min=-100), IntSlider(value=0, description='b', min=-…"
            ],
            "application/vnd.jupyter.widget-view+json": {
              "version_major": 2,
              "version_minor": 0,
              "model_id": "6d828d5331ec4253bb8390704d27fc9e"
            }
          },
          "metadata": {}
        },
        {
          "output_type": "execute_result",
          "data": {
            "text/plain": [
              "<function __main__.plot_pred(w, b)>"
            ],
            "text/html": [
              "<div style=\"max-width:800px; border: 1px solid var(--colab-border-color);\"><style>\n",
              "      pre.function-repr-contents {\n",
              "        overflow-x: auto;\n",
              "        padding: 8px 12px;\n",
              "        max-height: 500px;\n",
              "      }\n",
              "\n",
              "      pre.function-repr-contents.function-repr-contents-collapsed {\n",
              "        cursor: pointer;\n",
              "        max-height: 100px;\n",
              "      }\n",
              "    </style>\n",
              "    <pre style=\"white-space: initial; background:\n",
              "         var(--colab-secondary-surface-color); padding: 8px 12px;\n",
              "         border-bottom: 1px solid var(--colab-border-color);\"><b>plot_pred</b><br/>def plot_pred(w, b)</pre><pre class=\"function-repr-contents function-repr-contents-collapsed\" style=\"\"><a class=\"filepath\" style=\"display:none\" href=\"#\">/content/&lt;ipython-input-26-ff2e295d7909&gt;</a>&lt;no docstring&gt;</pre></div>"
            ]
          },
          "metadata": {},
          "execution_count": 27
        }
      ]
    },
    {
      "cell_type": "code",
      "source": [
        "#算出線和真實數據的距離總和，最小的那個就是答案\n",
        "#可以把距離平方加總寫成一個cost function(真實數據-預測值)^2\n"
      ],
      "metadata": {
        "id": "G-e6QqAUVBId"
      },
      "execution_count": null,
      "outputs": []
    }
  ]
}