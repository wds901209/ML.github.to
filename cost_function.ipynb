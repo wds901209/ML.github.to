{
  "nbformat": 4,
  "nbformat_minor": 0,
  "metadata": {
    "colab": {
      "provenance": [],
      "authorship_tag": "ABX9TyP4wArgE0cibfPL6rLhO48D",
      "include_colab_link": true
    },
    "kernelspec": {
      "name": "python3",
      "display_name": "Python 3"
    },
    "language_info": {
      "name": "python"
    }
  },
  "cells": [
    {
      "cell_type": "markdown",
      "metadata": {
        "id": "view-in-github",
        "colab_type": "text"
      },
      "source": [
        "<a href=\"https://colab.research.google.com/github/wds901209/ML.github.to/blob/main/cost_function.ipynb\" target=\"_parent\"><img src=\"https://colab.research.google.com/assets/colab-badge.svg\" alt=\"Open In Colab\"/></a>"
      ]
    },
    {
      "cell_type": "code",
      "execution_count": null,
      "metadata": {
        "id": "EvHaBAIVW6XZ"
      },
      "outputs": [],
      "source": [
        "#Cost Function = Loss Function/訓練集總數\n",
        "#Loss function = 預測值與實際值之間的差異\n",
        "#分類問題可採用交叉熵（cross-entropy）\n",
        "import pandas as pd\n",
        "\n",
        "url = \"https://raw.githubusercontent.com/GrandmaCan/ML/main/Resgression/Salary_Data.csv\"\n",
        "data = pd.read_csv(url)\n",
        "data\n",
        "# y = w*x + b\n",
        "x = data[\"YearsExperience\"]\n",
        "y = data[\"Salary\"]"
      ]
    },
    {
      "cell_type": "code",
      "source": [
        "#cost finction = (真實數據-預測值)^2\n",
        "w = 10\n",
        "b = 0\n",
        "y_pred = w*x + b\n",
        "cost = (y - y_pred)**2\n",
        "cost.sum() / len(x)"
      ],
      "metadata": {
        "colab": {
          "base_uri": "https://localhost:8080/"
        },
        "id": "4l-lF-KXXZp9",
        "outputId": "2b100c4b-bfa3-4781-9acd-297d9ea30ea2"
      },
      "execution_count": null,
      "outputs": [
        {
          "output_type": "execute_result",
          "data": {
            "text/plain": [
              "602.547878787879"
            ]
          },
          "metadata": {},
          "execution_count": 20
        }
      ]
    },
    {
      "cell_type": "code",
      "source": [
        "def compute_cost(x, y, w, b):\n",
        "  y_pred = w*x + b\n",
        "  cost = (y - y_pred)**2\n",
        "  cost = cost.sum() / len(x)\n",
        "\n",
        "  return cost"
      ],
      "metadata": {
        "id": "SliQGFvDYiJ9"
      },
      "execution_count": null,
      "outputs": []
    },
    {
      "cell_type": "code",
      "source": [
        "compute_cost(x, y, 10, 10)"
      ],
      "metadata": {
        "colab": {
          "base_uri": "https://localhost:8080/"
        },
        "id": "GwQY6owRYxY3",
        "outputId": "0cb8eb68-64b3-4d33-f0d0-526737ccf5d9"
      },
      "execution_count": null,
      "outputs": [
        {
          "output_type": "execute_result",
          "data": {
            "text/plain": [
              "227.88121212121214"
            ]
          },
          "metadata": {},
          "execution_count": 22
        }
      ]
    },
    {
      "cell_type": "code",
      "source": [
        "#b=0 w=-100~100 cost會是多少?\n",
        "costs = []\n",
        "for w in range(-100, 101):\n",
        "  cost = compute_cost(x, y, w, 0)\n",
        "  costs.append(cost)\n",
        "\n",
        "costs"
      ],
      "metadata": {
        "colab": {
          "base_uri": "https://localhost:8080/"
        },
        "collapsed": true,
        "id": "1hlfN2WgZCqO",
        "outputId": "d2fae9c2-78c3-45c7-c30c-c5bca323d24e"
      },
      "execution_count": null,
      "outputs": [
        {
          "output_type": "execute_result",
          "data": {
            "text/plain": [
              "[420951.08121212124,\n",
              " 413557.2063636363,\n",
              " 406228.88242424245,\n",
              " 398966.1093939394,\n",
              " 391768.8872727272,\n",
              " 384637.21606060606,\n",
              " 377571.0957575757,\n",
              " 370570.52636363637,\n",
              " 363635.5078787879,\n",
              " 356766.0403030302,\n",
              " 349962.12363636366,\n",
              " 343223.7578787879,\n",
              " 336550.94303030305,\n",
              " 329943.6790909091,\n",
              " 323401.966060606,\n",
              " 316925.8039393939,\n",
              " 310515.19272727263,\n",
              " 304170.13242424245,\n",
              " 297890.623030303,\n",
              " 291676.6645454545,\n",
              " 285528.25696969696,\n",
              " 279445.40030303027,\n",
              " 273428.0945454546,\n",
              " 267476.33969696966,\n",
              " 261590.1357575757,\n",
              " 255769.48272727273,\n",
              " 250014.38060606056,\n",
              " 244324.82939393938,\n",
              " 238700.82909090907,\n",
              " 233142.3796969697,\n",
              " 227649.4812121212,\n",
              " 222222.13363636364,\n",
              " 216860.33696969692,\n",
              " 211564.0912121212,\n",
              " 206333.39636363636,\n",
              " 201168.25242424244,\n",
              " 196068.6593939394,\n",
              " 191034.61727272722,\n",
              " 186066.12606060607,\n",
              " 181163.18575757576,\n",
              " 176325.79636363636,\n",
              " 171553.95787878786,\n",
              " 166847.67030303032,\n",
              " 162206.93363636362,\n",
              " 157631.7478787879,\n",
              " 153122.113030303,\n",
              " 148678.02909090905,\n",
              " 144299.49606060603,\n",
              " 139986.51393939395,\n",
              " 135739.0827272727,\n",
              " 131557.20242424242,\n",
              " 127440.87303030302,\n",
              " 123390.09454545454,\n",
              " 119404.86696969694,\n",
              " 115485.19030303031,\n",
              " 111631.06454545453,\n",
              " 107842.4896969697,\n",
              " 104119.46575757574,\n",
              " 100461.99272727272,\n",
              " 96870.0706060606,\n",
              " 93343.69939393939,\n",
              " 89882.87909090909,\n",
              " 86487.60969696968,\n",
              " 83157.8912121212,\n",
              " 79893.72363636363,\n",
              " 76695.10696969698,\n",
              " 73562.04121212121,\n",
              " 70494.52636363637,\n",
              " 67492.56242424241,\n",
              " 64556.149393939384,\n",
              " 61685.28727272727,\n",
              " 58879.97606060606,\n",
              " 56140.21575757576,\n",
              " 53466.00636363636,\n",
              " 50857.34787878788,\n",
              " 48314.2403030303,\n",
              " 45836.68363636363,\n",
              " 43424.67787878788,\n",
              " 41078.22303030303,\n",
              " 38797.31909090909,\n",
              " 36581.96606060606,\n",
              " 34432.16393939394,\n",
              " 32347.91272727273,\n",
              " 30329.21242424242,\n",
              " 28376.063030303034,\n",
              " 26488.464545454543,\n",
              " 24666.41696969697,\n",
              " 22909.920303030303,\n",
              " 21218.97454545455,\n",
              " 19593.5796969697,\n",
              " 18033.73575757576,\n",
              " 16539.44272727273,\n",
              " 15110.700606060605,\n",
              " 13747.509393939394,\n",
              " 12449.869090909091,\n",
              " 11217.779696969697,\n",
              " 10051.241212121213,\n",
              " 8950.253636363635,\n",
              " 7914.81696969697,\n",
              " 6944.931212121212,\n",
              " 6040.596363636363,\n",
              " 5201.812424242424,\n",
              " 4428.579393939393,\n",
              " 3720.8972727272726,\n",
              " 3078.7660606060604,\n",
              " 2502.1857575757576,\n",
              " 1991.1563636363637,\n",
              " 1545.6778787878789,\n",
              " 1165.750303030303,\n",
              " 851.3736363636364,\n",
              " 602.547878787879,\n",
              " 419.27303030303034,\n",
              " 301.54909090909086,\n",
              " 249.37606060606066,\n",
              " 262.75393939393945,\n",
              " 341.6827272727273,\n",
              " 486.1624242424242,\n",
              " 696.1930303030302,\n",
              " 971.7745454545454,\n",
              " 1312.9069696969698,\n",
              " 1719.590303030303,\n",
              " 2191.8245454545454,\n",
              " 2729.609696969697,\n",
              " 3332.9457575757574,\n",
              " 4001.8327272727265,\n",
              " 4736.270606060605,\n",
              " 5536.259393939394,\n",
              " 6401.7990909090895,\n",
              " 7332.889696969696,\n",
              " 8329.531212121212,\n",
              " 9391.723636363637,\n",
              " 10519.466969696969,\n",
              " 11712.761212121211,\n",
              " 12971.606363636363,\n",
              " 14296.002424242422,\n",
              " 15685.949393939394,\n",
              " 17141.44727272727,\n",
              " 18662.49606060606,\n",
              " 20249.095757575757,\n",
              " 21901.24636363636,\n",
              " 23618.94787878788,\n",
              " 25402.200303030302,\n",
              " 27251.003636363635,\n",
              " 29165.357878787876,\n",
              " 31145.26303030303,\n",
              " 33190.71909090909,\n",
              " 35301.72606060606,\n",
              " 37478.283939393936,\n",
              " 39720.39272727272,\n",
              " 42028.05242424242,\n",
              " 44401.26303030303,\n",
              " 46840.024545454544,\n",
              " 49344.33696969697,\n",
              " 51914.20030303031,\n",
              " 54549.61454545455,\n",
              " 57250.5796969697,\n",
              " 60017.09575757576,\n",
              " 62849.16272727272,\n",
              " 65746.7806060606,\n",
              " 68709.9493939394,\n",
              " 71738.6690909091,\n",
              " 74832.9396969697,\n",
              " 77992.76121212122,\n",
              " 81218.13363636362,\n",
              " 84509.05696969696,\n",
              " 87865.53121212122,\n",
              " 91287.55636363637,\n",
              " 94775.13242424243,\n",
              " 98328.25939393938,\n",
              " 101946.93727272727,\n",
              " 105631.16606060608,\n",
              " 109380.94575757576,\n",
              " 113196.27636363637,\n",
              " 117077.15787878788,\n",
              " 121023.5903030303,\n",
              " 125035.57363636365,\n",
              " 129113.1078787879,\n",
              " 133256.19303030302,\n",
              " 137464.82909090907,\n",
              " 141739.01606060608,\n",
              " 146078.75393939397,\n",
              " 150484.04272727275,\n",
              " 154954.88242424242,\n",
              " 159491.273030303,\n",
              " 164093.21454545457,\n",
              " 168760.70696969697,\n",
              " 173493.7503030303,\n",
              " 178292.34454545454,\n",
              " 183156.48969696971,\n",
              " 188086.18575757576,\n",
              " 193081.4327272727,\n",
              " 198142.23060606062,\n",
              " 203268.57939393944,\n",
              " 208460.4790909091,\n",
              " 213717.9296969697,\n",
              " 219040.9312121212,\n",
              " 224429.48363636364,\n",
              " 229883.586969697,\n",
              " 235403.24121212118,\n",
              " 240988.44636363635,\n",
              " 246639.20242424245]"
            ]
          },
          "metadata": {},
          "execution_count": 23
        }
      ]
    },
    {
      "cell_type": "code",
      "source": [
        "import matplotlib.pyplot as plt\n",
        "\n",
        "#plt.scatter(range(-100, 101), costs)\n",
        "plt.plot(range(-100, 101), costs) #直接連成一條曲線\n",
        "plt.title(\"cost function b=0 w:-100~100\")\n",
        "plt.xlabel(\"w\")\n",
        "plt.ylabel(\"cost\")\n",
        "plt.show()"
      ],
      "metadata": {
        "colab": {
          "base_uri": "https://localhost:8080/",
          "height": 472
        },
        "id": "5AlIH1wCZqEO",
        "outputId": "152b747e-db07-4613-fbbd-6c53c767b7ee"
      },
      "execution_count": null,
      "outputs": [
        {
          "output_type": "display_data",
          "data": {
            "text/plain": [
              "<Figure size 640x480 with 1 Axes>"
            ],
            "image/png": "[encoded data removed]"
          },
          "metadata": {}
        }
      ]
    },
    {
      "cell_type": "code",
      "source": [
        "#把b也考慮進來，且也是-100~100\n",
        "import numpy as np #matrix\n",
        "\n",
        "ws = np.arange(-100, 101)\n",
        "bs = np.arange(-100, 101)\n",
        "costs = np.zeros((201, 201))  #全部都是0的matrix\n",
        "\n",
        "\n",
        "i = 0\n",
        "for w in ws:\n",
        "  j = 0\n",
        "  for b in bs:\n",
        "    cost = compute_cost(x, y, w, b)\n",
        "    costs[i, j] = cost\n",
        "    j = j+1\n",
        "  i = i+1\n",
        "costs"
      ],
      "metadata": {
        "colab": {
          "base_uri": "https://localhost:8080/"
        },
        "id": "iY4PCSU-amrt",
        "outputId": "f945ffa9-0edc-4cb1-9111-8b0f743f966b"
      },
      "execution_count": null,
      "outputs": [
        {
          "output_type": "execute_result",
          "data": {
            "text/plain": [
              "array([[543097.74787879, 541777.28121212, 540458.81454545, ...,\n",
              "        320651.34787879, 319726.88121212, 318804.41454545],\n",
              "       [534727.50939394, 533416.80636364, 532108.10333333, ...,\n",
              "        314214.30939394, 313299.60636364, 312386.90333333],\n",
              "       [526422.82181818, 525121.88242424, 523822.9430303 , ...,\n",
              "        307842.82181818, 306937.88242424, 306034.9430303 ],\n",
              "       ...,\n",
              "       [164229.90787879, 164842.64121212, 165457.37454545, ...,\n",
              "        324557.10787879, 325565.84121212, 326576.57454545],\n",
              "       [168838.74939394, 169461.24636364, 170085.74333333, ...,\n",
              "        331099.14939394, 332117.64636364, 333138.14333333],\n",
              "       [173513.14181818, 174145.40242424, 174779.6630303 , ...,\n",
              "        337706.74181818, 338735.00242424, 339765.2630303 ]])"
            ]
          },
          "metadata": {},
          "execution_count": 18
        }
      ]
    },
    {
      "cell_type": "code",
      "source": [
        "!pip install wget\n",
        "import wget\n",
        "\n",
        "wget.download(\"https://github.com/GrandmaCan/ML/raw/main/Resgression/ChineseFont.ttf\")"
      ],
      "metadata": {
        "colab": {
          "base_uri": "https://localhost:8080/",
          "height": 229
        },
        "collapsed": true,
        "id": "ZQCyd8etyZP2",
        "outputId": "3294e942-b3e3-4ed4-d2f6-1f820d61acab"
      },
      "execution_count": null,
      "outputs": [
        {
          "output_type": "stream",
          "name": "stdout",
          "text": [
            "Collecting wget\n",
            "  Downloading wget-3.2.zip (10 kB)\n",
            "  Preparing metadata (setup.py) ... \u001b[?25l\u001b[?25hdone\n",
            "Building wheels for collected packages: wget\n",
            "  Building wheel for wget (setup.py) ... \u001b[?25l\u001b[?25hdone\n",
            "  Created wheel for wget: filename=wget-3.2-py3-none-any.whl size=9656 sha256=d6811d51e1137c075fe225ab65b16f3c513881e90914bfcc532ee8365e175e2f\n",
            "  Stored in directory: /root/.cache/pip/wheels/8b/f1/7f/5c94f0a7a505ca1c81cd1d9208ae2064675d97582078e6c769\n",
            "Successfully built wget\n",
            "Installing collected packages: wget\n",
            "Successfully installed wget-3.2\n"
          ]
        },
        {
          "output_type": "execute_result",
          "data": {
            "text/plain": [
              "'ChineseFont.ttf'"
            ],
            "application/vnd.google.colaboratory.intrinsic+json": {
              "type": "string"
            }
          },
          "metadata": {},
          "execution_count": 42
        }
      ]
    },
    {
      "cell_type": "code",
      "source": [
        "#2個參數，必須畫出一個3D的圖才能找到最低點\n",
        "import matplotlib as mpl\n",
        "from matplotlib.font_manager import fontManager\n",
        "\n",
        "fontManager.addfont(\"ChineseFont.ttf\")\n",
        "mpl.rc('font', family=\"ChineseFont\")\n",
        "\n",
        "plt.figure(figsize=(8, 8))\n",
        "ax = plt.axes(projection=\"3d\")\n",
        "ax.view_init(45, -120)  #(上下， 左右)旋轉角度\n",
        "ax.xaxis.set_pane_color((1, 1, 1))\n",
        "ax.yaxis.set_pane_color((1, 1, 1))\n",
        "ax.zaxis.set_pane_color((1, 1, 1))\n",
        "\n",
        "\n",
        "w_grid, b_grid = np.meshgrid(ws, bs)\n",
        "ax.plot_surface(w_grid, b_grid, costs, cmap=\"Spectral_r\", alpha=0.7)  #alpha不透明度\n",
        "ax.plot_wireframe(w_grid, b_grid, costs, color=\"black\", alpha=0.1)\n",
        "\n",
        "ax.set_xlabel(\"w\")\n",
        "ax.set_ylabel(\"b\")\n",
        "ax.set_zlabel(\"cost\")\n",
        "ax.set_title(\"w b 對應的cost\")\n",
        "\n",
        "w_index, b_index = np.where(costs == np.min(costs))\n",
        "ax.scatter(ws[w_index], bs[b_index], costs[w_index, b_index], color=\"red\" s=40)\n",
        "\n",
        "plt.show()\n",
        "print(f\"當w={ws[w_index]}, b={bs[b_index]} 會有最小cost:{costs[w_index, b_index]}\")"
      ],
      "metadata": {
        "id": "j19wRfTrhjyi"
      },
      "execution_count": null,
      "outputs": []
    },
    {
      "cell_type": "code",
      "source": [
        "#如何有效率找出w(斜率)和b(高度)?\n",
        "#可以利用gradient descent， 它可以根據斜率改變參數\n",
        "\n",
        "#(真實數據-預測值)^2 = (y-y_pred)^2 = (y-(w*x+b))^2 並把它微分(就是對cost function微分)，可得-2x(y-w*x)\n",
        "#接著，你站在這條曲線上，且是隨便一點，然後你就會透過微分，來得到所在位子的切線斜率\n",
        "#然後w-斜率(負的)*learning rate\n",
        "#這樣一來你的w(斜率)就會慢慢由負變成正，而learning rate則表示你每移動的步伐要跨多大\n",
        "#直到你的w趨近於0，就找到最低點了!\n",
        "\n",
        "#learning rate不能太大也不能太小\n",
        "#太大:會直接跨過曲線; 太小:浪費時間"
      ],
      "metadata": {
        "id": "T3-UO64ZQYQk"
      },
      "execution_count": null,
      "outputs": []
    }
  ]
}